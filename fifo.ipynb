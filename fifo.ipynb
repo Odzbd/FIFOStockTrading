{
 "cells": [
  {
   "cell_type": "code",
   "execution_count": 1,
   "id": "2350292c-4c66-42f1-9b05-e46b9fdac1b5",
   "metadata": {},
   "outputs": [],
   "source": [
    "import pandas as pd\n",
    "from collections import defaultdict"
   ]
  },
  {
   "cell_type": "code",
   "execution_count": 2,
   "id": "6c690629-08fa-47c2-a0d1-112349c8f7bc",
   "metadata": {},
   "outputs": [],
   "source": [
    "def action_append(ticker, action, price, volume, df, info_dict):\n",
    "    if action == 'B':\n",
    "        info_dict[ticker].append(volume)\n",
    "    elif action == 'S':\n",
    "        info_dict[ticker][0] -= volume\n",
    "        while info_dict[ticker][0] <= 0:\n",
    "            left_sell_vol = info_dict[ticker].pop(0)\n",
    "            if left_sell_vol == 0:\n",
    "                break\n",
    "            info_dict[ticker][0] += left_sell_vol\n",
    "            \n",
    "    df.loc[len(ticker_df)] = [ticker, action, price, volume]\n",
    "    return df, info_dict"
   ]
  },
  {
   "cell_type": "code",
   "execution_count": 17,
   "id": "dbda2cac-db98-4650-be85-aef3e173c68d",
   "metadata": {},
   "outputs": [
    {
     "data": {
      "text/html": [
       "<div>\n",
       "<style scoped>\n",
       "    .dataframe tbody tr th:only-of-type {\n",
       "        vertical-align: middle;\n",
       "    }\n",
       "\n",
       "    .dataframe tbody tr th {\n",
       "        vertical-align: top;\n",
       "    }\n",
       "\n",
       "    .dataframe thead th {\n",
       "        text-align: right;\n",
       "    }\n",
       "</style>\n",
       "<table border=\"1\" class=\"dataframe\">\n",
       "  <thead>\n",
       "    <tr style=\"text-align: right;\">\n",
       "      <th></th>\n",
       "      <th>ticker</th>\n",
       "      <th>action</th>\n",
       "      <th>price</th>\n",
       "      <th>volume</th>\n",
       "    </tr>\n",
       "  </thead>\n",
       "  <tbody>\n",
       "    <tr>\n",
       "      <th>0</th>\n",
       "      <td>AAPL</td>\n",
       "      <td>B</td>\n",
       "      <td>140</td>\n",
       "      <td>200</td>\n",
       "    </tr>\n",
       "    <tr>\n",
       "      <th>1</th>\n",
       "      <td>MSFT</td>\n",
       "      <td>B</td>\n",
       "      <td>100</td>\n",
       "      <td>150</td>\n",
       "    </tr>\n",
       "    <tr>\n",
       "      <th>2</th>\n",
       "      <td>MSFT</td>\n",
       "      <td>B</td>\n",
       "      <td>120</td>\n",
       "      <td>200</td>\n",
       "    </tr>\n",
       "    <tr>\n",
       "      <th>3</th>\n",
       "      <td>AAPL</td>\n",
       "      <td>B</td>\n",
       "      <td>130</td>\n",
       "      <td>100</td>\n",
       "    </tr>\n",
       "  </tbody>\n",
       "</table>\n",
       "</div>"
      ],
      "text/plain": [
       "  ticker action  price  volume\n",
       "0   AAPL      B    140     200\n",
       "1   MSFT      B    100     150\n",
       "2   MSFT      B    120     200\n",
       "3   AAPL      B    130     100"
      ]
     },
     "execution_count": 17,
     "metadata": {},
     "output_type": "execute_result"
    }
   ],
   "source": [
    "ticker_df = pd.DataFrame(columns=['ticker', 'action', 'price', 'volume'])\n",
    "ticker_dict = defaultdict(list)\n",
    "\n",
    "ticker_df, ticker_dict = action_append('AAPL', 'B', 140, 200, ticker_df, ticker_dict)\n",
    "ticker_df, ticker_dict = action_append('MSFT', 'B', 100, 150, ticker_df, ticker_dict)\n",
    "ticker_df, ticker_dict = action_append('MSFT', 'B', 120, 200, ticker_df, ticker_dict)\n",
    "ticker_df, ticker_dict = action_append('AAPL', 'B', 130, 100, ticker_df, ticker_dict)\n",
    "ticker_df"
   ]
  },
  {
   "cell_type": "code",
   "execution_count": 18,
   "id": "9e77e281-5a7a-45c5-b38e-1f590a17c786",
   "metadata": {},
   "outputs": [
    {
     "data": {
      "text/plain": [
       "(defaultdict(list, {'AAPL': [200, 100], 'MSFT': [150, 200]}),\n",
       " array(['AAPL', 'MSFT'], dtype=object))"
      ]
     },
     "execution_count": 18,
     "metadata": {},
     "output_type": "execute_result"
    }
   ],
   "source": [
    "ticker_dict, ticker_df['ticker'].unique()"
   ]
  },
  {
   "cell_type": "code",
   "execution_count": 19,
   "id": "4560a636-9a4c-42ee-91d0-892cfbe8ba64",
   "metadata": {},
   "outputs": [
    {
     "data": {
      "text/html": [
       "<div>\n",
       "<style scoped>\n",
       "    .dataframe tbody tr th:only-of-type {\n",
       "        vertical-align: middle;\n",
       "    }\n",
       "\n",
       "    .dataframe tbody tr th {\n",
       "        vertical-align: top;\n",
       "    }\n",
       "\n",
       "    .dataframe thead th {\n",
       "        text-align: right;\n",
       "    }\n",
       "</style>\n",
       "<table border=\"1\" class=\"dataframe\">\n",
       "  <thead>\n",
       "    <tr style=\"text-align: right;\">\n",
       "      <th></th>\n",
       "      <th>ticker</th>\n",
       "      <th>action</th>\n",
       "      <th>price</th>\n",
       "      <th>volume</th>\n",
       "    </tr>\n",
       "  </thead>\n",
       "  <tbody>\n",
       "    <tr>\n",
       "      <th>0</th>\n",
       "      <td>AAPL</td>\n",
       "      <td>B</td>\n",
       "      <td>140</td>\n",
       "      <td>200</td>\n",
       "    </tr>\n",
       "    <tr>\n",
       "      <th>1</th>\n",
       "      <td>MSFT</td>\n",
       "      <td>B</td>\n",
       "      <td>100</td>\n",
       "      <td>150</td>\n",
       "    </tr>\n",
       "    <tr>\n",
       "      <th>2</th>\n",
       "      <td>MSFT</td>\n",
       "      <td>B</td>\n",
       "      <td>120</td>\n",
       "      <td>200</td>\n",
       "    </tr>\n",
       "    <tr>\n",
       "      <th>3</th>\n",
       "      <td>AAPL</td>\n",
       "      <td>B</td>\n",
       "      <td>130</td>\n",
       "      <td>100</td>\n",
       "    </tr>\n",
       "    <tr>\n",
       "      <th>4</th>\n",
       "      <td>MSFT</td>\n",
       "      <td>S</td>\n",
       "      <td>110</td>\n",
       "      <td>150</td>\n",
       "    </tr>\n",
       "    <tr>\n",
       "      <th>5</th>\n",
       "      <td>AAPL</td>\n",
       "      <td>S</td>\n",
       "      <td>115</td>\n",
       "      <td>250</td>\n",
       "    </tr>\n",
       "  </tbody>\n",
       "</table>\n",
       "</div>"
      ],
      "text/plain": [
       "  ticker action  price  volume\n",
       "0   AAPL      B    140     200\n",
       "1   MSFT      B    100     150\n",
       "2   MSFT      B    120     200\n",
       "3   AAPL      B    130     100\n",
       "4   MSFT      S    110     150\n",
       "5   AAPL      S    115     250"
      ]
     },
     "execution_count": 19,
     "metadata": {},
     "output_type": "execute_result"
    }
   ],
   "source": [
    "ticker_df, ticker_dict = action_append('MSFT', 'S', 110, 150, ticker_df, ticker_dict)\n",
    "ticker_df, ticker_dict = action_append('AAPL', 'S', 115, 250, ticker_df, ticker_dict)\n",
    "ticker_df"
   ]
  },
  {
   "cell_type": "code",
   "execution_count": 20,
   "id": "9f8471a0-7c91-48b8-a343-f4e43688348d",
   "metadata": {},
   "outputs": [
    {
     "data": {
      "text/plain": [
       "defaultdict(list, {'AAPL': [50], 'MSFT': [200]})"
      ]
     },
     "execution_count": 20,
     "metadata": {},
     "output_type": "execute_result"
    }
   ],
   "source": [
    "ticker_dict"
   ]
  }
 ],
 "metadata": {
  "kernelspec": {
   "display_name": "Python 3 (ipykernel)",
   "language": "python",
   "name": "python3"
  },
  "language_info": {
   "codemirror_mode": {
    "name": "ipython",
    "version": 3
   },
   "file_extension": ".py",
   "mimetype": "text/x-python",
   "name": "python",
   "nbconvert_exporter": "python",
   "pygments_lexer": "ipython3",
   "version": "3.12.3"
  }
 },
 "nbformat": 4,
 "nbformat_minor": 5
}
